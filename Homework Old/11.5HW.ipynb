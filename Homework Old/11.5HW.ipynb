{
 "cells": [
  {
   "cell_type": "markdown",
   "metadata": {},
   "source": [
    "## 11.5 Homework\n",
    "\n",
    "#### 1, Monte Carlo Integral\n",
    "\n",
    "Calculate the area shaded \n",
    "![Homework](https://raw.githubusercontent.com/qzhu2017/2017-cmp/master/img/MC1.png)"
   ]
  },
  {
   "cell_type": "code",
   "execution_count": 15,
   "metadata": {},
   "outputs": [
    {
     "data": {
      "image/png": "[encoded data removed]",
      "text/plain": [
       "<Figure size 360x360 with 1 Axes>"
      ]
     },
     "metadata": {},
     "output_type": "display_data"
    },
    {
     "name": "stdout",
     "output_type": "stream",
     "text": [
      "area in shaded region = 0.961926\n"
     ]
    }
   ],
   "source": [
    "import matplotlib.pyplot as plt\n",
    "from math import sin\n",
    "from random import random\n",
    "import numpy as np\n",
    "%matplotlib inline  \n",
    "\n",
    "\n",
    "f1 = lambda x: np.sqrt(1-(x-1)**2)\n",
    "f2 = lambda x: 2-np.sqrt(4-x**2)\n",
    "\n",
    "x = np.linspace(0,2,100)\n",
    "\n",
    "def MC(N,f1,f2):\n",
    "    count = 0\n",
    "    for i in range(N):\n",
    "        x = 2*random()\n",
    "        y = random()\n",
    "        if y<f1(x) and y >f2(x):\n",
    "            count += 1\n",
    "    I = 2*count/N\n",
    "    k = count/N\n",
    "    return (k,I)\n",
    "\n",
    "plt.figure(figsize = (5,5))\n",
    "plt.plot(x,f1(x),'k')\n",
    "plt.plot(x,f2(x),'k')\n",
    "plt.plot([0,0,2,2,0],[0,1,1,0,0],'r')\n",
    "plt.fill_between(x, f1(x), f2(x), where=f1(x)>f2(x), color='grey', alpha='0.5')\n",
    "plt.show()\n",
    "\n",
    "print('area in shaded region = ' + str(MC(1000000,f1,f2)[1]))"
   ]
  },
  {
   "cell_type": "markdown",
   "metadata": {},
   "source": [
    "#### 2, Error Analysis\n",
    "Try to do the intergral many times (100) for different $N$ values (100, 1000, 10000, 100000), collect the data and calculate its standard varaince."
   ]
  },
  {
   "cell_type": "code",
   "execution_count": 16,
   "metadata": {},
   "outputs": [
    {
     "name": "stdout",
     "output_type": "stream",
     "text": [
      "average variance for N = 100: 0.006916015211949309\n",
      "average variance for N = 1000: 0.0006919146205186563\n",
      "average variance for N = 10000: 6.931808678253807e-05\n",
      "average variance for N = 100000: 6.933955804524616e-06\n"
     ]
    }
   ],
   "source": [
    "N = [100,1000,10000,100000]\n",
    "\n",
    "for i in N:\n",
    "    areas = []\n",
    "    successes = []\n",
    "    variance = []\n",
    "    for j in range(100):\n",
    "        successes.append(MC(i,f1,f2)[0])\n",
    "        areas.append(MC(i,f1,f2)[1])\n",
    "        variance.append(np.sqrt(((successes[j]/i)*(1-(successes[j]/i)))/i))\n",
    "    print('average variance for N = ' + str(i) + ': ' + str(np.average(variance)))\n",
    "    "
   ]
  },
  {
   "cell_type": "markdown",
   "metadata": {},
   "source": [
    "### as N increases, accuracy of the area increases. "
   ]
  },
  {
   "cell_type": "code",
   "execution_count": null,
   "metadata": {},
   "outputs": [],
   "source": []
  }
 ],
 "metadata": {
  "kernelspec": {
   "display_name": "Python 3",
   "language": "python",
   "name": "python3"
  },
  "language_info": {
   "codemirror_mode": {
    "name": "ipython",
    "version": 3
   },
   "file_extension": ".py",
   "mimetype": "text/x-python",
   "name": "python",
   "nbconvert_exporter": "python",
   "pygments_lexer": "ipython3",
   "version": "3.6.5"
  }
 },
 "nbformat": 4,
 "nbformat_minor": 2
}
