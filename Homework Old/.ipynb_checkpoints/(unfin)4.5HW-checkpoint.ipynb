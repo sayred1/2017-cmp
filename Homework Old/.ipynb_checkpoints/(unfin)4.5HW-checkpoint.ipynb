{
 "cells": [
  {
   "cell_type": "markdown",
   "metadata": {},
   "source": [
    "## 4.5 Homework: \n",
    "\n",
    "### 4.5.1 Mandelbrot set\n",
    "\n",
    "The Mandelbrot set, named after its discoverer, the French mathematician Mandelbrot, \n",
    "is a fractal, an infinitely ramified mathematical object that contains structure \n",
    "within structure within structure, as deep as we care to look.\n",
    "\n",
    "The definition of the Mandelbrot set is in terms of complex numbers as follows.\n",
    "Consider the equation\n",
    "\n",
    "$$z' = z^2 + c$$\n",
    "\n",
    "where $z$ is a complex number and $c$ is a complex constant. For any given value of\n",
    "$c$ this equation turns an input number z into an output number $z'$. \n",
    "\n",
    "The definition of the Mandelbrot set involves the repeated iteration of this equation: \n",
    "we take an initial starting value of $z$ and feed it into the equation to get a new value $z'$. \n",
    "\n",
    "Then we take that value and feed it in again to get another value, and so forth. \n",
    "\n",
    "\n",
    "The Mandelbrot set is the set of points in the complex plane that satisfies the following definition:\n",
    "\n",
    "_For a given complex value of c, start with z = 0 and iterate repeatedly. If the\n",
    "magnitude |z| of the resulting value is ever greater than 2, then the point in the\n",
    "complex plane at position c is not in the Mandelbrot set, otherwise it is in the set._\n",
    "\n",
    "In order to use this definition one would, in principle, have to iterate infinitely many\n",
    "times to prove that a point is in the Mandelbrot set, since a point is in the set only if\n",
    "the iteration never passes |z| = 2 ever. In practice, however, one usually just performs\n",
    "some large number of iterations, say 100, and if |z| hasn’t exceeded 2 by that point then\n",
    "we call that good enough.\n",
    "\n",
    "#### Task\n",
    "\n",
    "Write a program to make an image of the Mandelbrot set by performing the iteration\n",
    "for all values of $c = x + iy$ on an $N \\times N$ grid spanning the region where −2 ≤ x ≤ 2\n",
    "and −2 ≤ y ≤ 2. Make a density plot in which grid points inside the Mandelbrot set\n",
    "are colored black and those outside are colored white. \n",
    "\n",
    "Hint: You will probably find it useful to start off with quite a coarse grid, i.e., with a\n",
    "small value (perhaps $N$ = 100) —so that your program runs quickly while you are\n",
    "testing it. Once you are sure it is working correctly, increase the value of N to produce\n",
    "a final high-quality image of the shape of the set.\n",
    "\n",
    "### 4.5.2 (optional)\n",
    "Choose a cool plot made by python"
   ]
  },
  {
   "cell_type": "code",
   "execution_count": 144,
   "metadata": {},
   "outputs": [
    {
     "ename": "TypeError",
     "evalue": "Image data cannot be converted to float",
     "output_type": "error",
     "traceback": [
      "\u001b[0;31m---------------------------------------------------------------------------\u001b[0m",
      "\u001b[0;31mTypeError\u001b[0m                                 Traceback (most recent call last)",
      "\u001b[0;32m<ipython-input-144-52d83a00f0e3>\u001b[0m in \u001b[0;36m<module>\u001b[0;34m()\u001b[0m\n\u001b[1;32m     16\u001b[0m     \u001b[0;32mreturn\u001b[0m\u001b[0;34m(\u001b[0m\u001b[0mzprime\u001b[0m\u001b[0;34m)\u001b[0m\u001b[0;34m\u001b[0m\u001b[0m\n\u001b[1;32m     17\u001b[0m \u001b[0;34m\u001b[0m\u001b[0m\n\u001b[0;32m---> 18\u001b[0;31m \u001b[0mplt\u001b[0m\u001b[0;34m.\u001b[0m\u001b[0mimshow\u001b[0m\u001b[0;34m(\u001b[0m\u001b[0mmendelset\u001b[0m\u001b[0;34m(\u001b[0m\u001b[0;36m100\u001b[0m\u001b[0;34m)\u001b[0m \u001b[0;34m,\u001b[0m\u001b[0mextent\u001b[0m\u001b[0;34m=\u001b[0m\u001b[0;34m[\u001b[0m\u001b[0;34m-\u001b[0m\u001b[0;36m2\u001b[0m\u001b[0;34m,\u001b[0m\u001b[0;36m2\u001b[0m\u001b[0;34m,\u001b[0m \u001b[0;34m-\u001b[0m\u001b[0;36m2\u001b[0m\u001b[0;34m,\u001b[0m \u001b[0;36m2\u001b[0m\u001b[0;34m]\u001b[0m\u001b[0;34m)\u001b[0m\u001b[0;34m\u001b[0m\u001b[0m\n\u001b[0m\u001b[1;32m     19\u001b[0m \u001b[0mplt\u001b[0m\u001b[0;34m.\u001b[0m\u001b[0mgray\u001b[0m\u001b[0;34m(\u001b[0m\u001b[0;34m)\u001b[0m\u001b[0;34m\u001b[0m\u001b[0m\n\u001b[1;32m     20\u001b[0m \u001b[0mplt\u001b[0m\u001b[0;34m.\u001b[0m\u001b[0mshow\u001b[0m\u001b[0;34m(\u001b[0m\u001b[0;34m)\u001b[0m\u001b[0;34m\u001b[0m\u001b[0m\n",
      "\u001b[0;32m~/anaconda3/lib/python3.6/site-packages/matplotlib/pyplot.py\u001b[0m in \u001b[0;36mimshow\u001b[0;34m(X, cmap, norm, aspect, interpolation, alpha, vmin, vmax, origin, extent, shape, filternorm, filterrad, imlim, resample, url, hold, data, **kwargs)\u001b[0m\n\u001b[1;32m   3203\u001b[0m                         \u001b[0mfilternorm\u001b[0m\u001b[0;34m=\u001b[0m\u001b[0mfilternorm\u001b[0m\u001b[0;34m,\u001b[0m \u001b[0mfilterrad\u001b[0m\u001b[0;34m=\u001b[0m\u001b[0mfilterrad\u001b[0m\u001b[0;34m,\u001b[0m\u001b[0;34m\u001b[0m\u001b[0m\n\u001b[1;32m   3204\u001b[0m                         \u001b[0mimlim\u001b[0m\u001b[0;34m=\u001b[0m\u001b[0mimlim\u001b[0m\u001b[0;34m,\u001b[0m \u001b[0mresample\u001b[0m\u001b[0;34m=\u001b[0m\u001b[0mresample\u001b[0m\u001b[0;34m,\u001b[0m \u001b[0murl\u001b[0m\u001b[0;34m=\u001b[0m\u001b[0murl\u001b[0m\u001b[0;34m,\u001b[0m \u001b[0mdata\u001b[0m\u001b[0;34m=\u001b[0m\u001b[0mdata\u001b[0m\u001b[0;34m,\u001b[0m\u001b[0;34m\u001b[0m\u001b[0m\n\u001b[0;32m-> 3205\u001b[0;31m                         **kwargs)\n\u001b[0m\u001b[1;32m   3206\u001b[0m     \u001b[0;32mfinally\u001b[0m\u001b[0;34m:\u001b[0m\u001b[0;34m\u001b[0m\u001b[0m\n\u001b[1;32m   3207\u001b[0m         \u001b[0max\u001b[0m\u001b[0;34m.\u001b[0m\u001b[0m_hold\u001b[0m \u001b[0;34m=\u001b[0m \u001b[0mwashold\u001b[0m\u001b[0;34m\u001b[0m\u001b[0m\n",
      "\u001b[0;32m~/anaconda3/lib/python3.6/site-packages/matplotlib/__init__.py\u001b[0m in \u001b[0;36minner\u001b[0;34m(ax, *args, **kwargs)\u001b[0m\n\u001b[1;32m   1853\u001b[0m                         \u001b[0;34m\"the Matplotlib list!)\"\u001b[0m \u001b[0;34m%\u001b[0m \u001b[0;34m(\u001b[0m\u001b[0mlabel_namer\u001b[0m\u001b[0;34m,\u001b[0m \u001b[0mfunc\u001b[0m\u001b[0;34m.\u001b[0m\u001b[0m__name__\u001b[0m\u001b[0;34m)\u001b[0m\u001b[0;34m,\u001b[0m\u001b[0;34m\u001b[0m\u001b[0m\n\u001b[1;32m   1854\u001b[0m                         RuntimeWarning, stacklevel=2)\n\u001b[0;32m-> 1855\u001b[0;31m             \u001b[0;32mreturn\u001b[0m \u001b[0mfunc\u001b[0m\u001b[0;34m(\u001b[0m\u001b[0max\u001b[0m\u001b[0;34m,\u001b[0m \u001b[0;34m*\u001b[0m\u001b[0margs\u001b[0m\u001b[0;34m,\u001b[0m \u001b[0;34m**\u001b[0m\u001b[0mkwargs\u001b[0m\u001b[0;34m)\u001b[0m\u001b[0;34m\u001b[0m\u001b[0m\n\u001b[0m\u001b[1;32m   1856\u001b[0m \u001b[0;34m\u001b[0m\u001b[0m\n\u001b[1;32m   1857\u001b[0m         inner.__doc__ = _add_data_doc(inner.__doc__,\n",
      "\u001b[0;32m~/anaconda3/lib/python3.6/site-packages/matplotlib/axes/_axes.py\u001b[0m in \u001b[0;36mimshow\u001b[0;34m(self, X, cmap, norm, aspect, interpolation, alpha, vmin, vmax, origin, extent, shape, filternorm, filterrad, imlim, resample, url, **kwargs)\u001b[0m\n\u001b[1;32m   5485\u001b[0m                               resample=resample, **kwargs)\n\u001b[1;32m   5486\u001b[0m \u001b[0;34m\u001b[0m\u001b[0m\n\u001b[0;32m-> 5487\u001b[0;31m         \u001b[0mim\u001b[0m\u001b[0;34m.\u001b[0m\u001b[0mset_data\u001b[0m\u001b[0;34m(\u001b[0m\u001b[0mX\u001b[0m\u001b[0;34m)\u001b[0m\u001b[0;34m\u001b[0m\u001b[0m\n\u001b[0m\u001b[1;32m   5488\u001b[0m         \u001b[0mim\u001b[0m\u001b[0;34m.\u001b[0m\u001b[0mset_alpha\u001b[0m\u001b[0;34m(\u001b[0m\u001b[0malpha\u001b[0m\u001b[0;34m)\u001b[0m\u001b[0;34m\u001b[0m\u001b[0m\n\u001b[1;32m   5489\u001b[0m         \u001b[0;32mif\u001b[0m \u001b[0mim\u001b[0m\u001b[0;34m.\u001b[0m\u001b[0mget_clip_path\u001b[0m\u001b[0;34m(\u001b[0m\u001b[0;34m)\u001b[0m \u001b[0;32mis\u001b[0m \u001b[0;32mNone\u001b[0m\u001b[0;34m:\u001b[0m\u001b[0;34m\u001b[0m\u001b[0m\n",
      "\u001b[0;32m~/anaconda3/lib/python3.6/site-packages/matplotlib/image.py\u001b[0m in \u001b[0;36mset_data\u001b[0;34m(self, A)\u001b[0m\n\u001b[1;32m    647\u001b[0m         if (self._A.dtype != np.uint8 and\n\u001b[1;32m    648\u001b[0m                 not np.can_cast(self._A.dtype, float, \"same_kind\")):\n\u001b[0;32m--> 649\u001b[0;31m             \u001b[0;32mraise\u001b[0m \u001b[0mTypeError\u001b[0m\u001b[0;34m(\u001b[0m\u001b[0;34m\"Image data cannot be converted to float\"\u001b[0m\u001b[0;34m)\u001b[0m\u001b[0;34m\u001b[0m\u001b[0m\n\u001b[0m\u001b[1;32m    650\u001b[0m \u001b[0;34m\u001b[0m\u001b[0m\n\u001b[1;32m    651\u001b[0m         if not (self._A.ndim == 2\n",
      "\u001b[0;31mTypeError\u001b[0m: Image data cannot be converted to float"
     ]
    },
    {
     "data": {
      "image/png": "[encoded data removed]",
      "text/plain": [
       "<Figure size 432x288 with 1 Axes>"
      ]
     },
     "metadata": {},
     "output_type": "display_data"
    }
   ],
   "source": [
    "import numpy as np\n",
    "from numpy import empty\n",
    "from numpy import linspace\n",
    "import matplotlib.pyplot as plt\n",
    "%matplotlib inline  \n",
    "\n",
    "def mendelset(N):\n",
    "    j = 1j\n",
    "    x = linspace(-2,2,N)\n",
    "    y = linspace(-2,2,N)\n",
    "    c = x + y*j\n",
    "    c_array = np.array([c]*N)\n",
    "    z = c_array\n",
    "    for i in range(N):\n",
    "        zprime = z**2 + c_array[i]\n",
    "    return(zprime)\n",
    "\n",
    "plt.imshow(mendelset(100) ,extent=[-2,2, -2, 2])\n",
    "plt.gray()\n",
    "plt.show()\n",
    "\n",
    "\n",
    "\n"
   ]
  },
  {
   "cell_type": "code",
   "execution_count": 81,
   "metadata": {},
   "outputs": [
    {
     "name": "stdout",
     "output_type": "stream",
     "text": [
      "[[-2.        -2.j         -2.        -1.95959596j -2.        -1.91919192j\n",
      "  ... -2.        +1.91919192j -2.        +1.95959596j\n",
      "  -2.        +2.j        ]\n",
      " [-1.95959596-2.j         -1.95959596-1.95959596j -1.95959596-1.91919192j\n",
      "  ... -1.95959596+1.91919192j -1.95959596+1.95959596j\n",
      "  -1.95959596+2.j        ]\n",
      " [-1.91919192-2.j         -1.91919192-1.95959596j -1.91919192-1.91919192j\n",
      "  ... -1.91919192+1.91919192j -1.91919192+1.95959596j\n",
      "  -1.91919192+2.j        ]\n",
      " ...\n",
      " [ 1.91919192-2.j          1.91919192-1.95959596j  1.91919192-1.91919192j\n",
      "  ...  1.91919192+1.91919192j  1.91919192+1.95959596j\n",
      "   1.91919192+2.j        ]\n",
      " [ 1.95959596-2.j          1.95959596-1.95959596j  1.95959596-1.91919192j\n",
      "  ...  1.95959596+1.91919192j  1.95959596+1.95959596j\n",
      "   1.95959596+2.j        ]\n",
      " [ 2.        -2.j          2.        -1.95959596j  2.        -1.91919192j\n",
      "  ...  2.        +1.91919192j  2.        +1.95959596j\n",
      "   2.        +2.j        ]]\n"
     ]
    }
   ],
   "source": [
    "from numpy import newaxis\n",
    "x = np.linspace(-2, 2, 100)\n",
    "y = np.linspace(-2, 2, 100)\n",
    "\n",
    "c = x[:,newaxis] + 1j*y[newaxis,:]\n",
    "print(c)"
   ]
  },
  {
   "cell_type": "code",
   "execution_count": 82,
   "metadata": {},
   "outputs": [
    {
     "data": {
      "text/plain": [
       "False"
      ]
     },
     "execution_count": 82,
     "metadata": {},
     "output_type": "execute_result"
    }
   ],
   "source": [
    "(c==c_array).all()"
   ]
  },
  {
   "cell_type": "code",
   "execution_count": 83,
   "metadata": {},
   "outputs": [
    {
     "name": "stdout",
     "output_type": "stream",
     "text": [
      "[[-2.        -2.j         -1.95959596-1.95959596j -1.91919192-1.91919192j\n",
      "  ...  1.91919192+1.91919192j  1.95959596+1.95959596j\n",
      "   2.        +2.j        ]\n",
      " [-2.        -2.j         -1.95959596-1.95959596j -1.91919192-1.91919192j\n",
      "  ...  1.91919192+1.91919192j  1.95959596+1.95959596j\n",
      "   2.        +2.j        ]\n",
      " [-2.        -2.j         -1.95959596-1.95959596j -1.91919192-1.91919192j\n",
      "  ...  1.91919192+1.91919192j  1.95959596+1.95959596j\n",
      "   2.        +2.j        ]\n",
      " ...\n",
      " [-2.        -2.j         -1.95959596-1.95959596j -1.91919192-1.91919192j\n",
      "  ...  1.91919192+1.91919192j  1.95959596+1.95959596j\n",
      "   2.        +2.j        ]\n",
      " [-2.        -2.j         -1.95959596-1.95959596j -1.91919192-1.91919192j\n",
      "  ...  1.91919192+1.91919192j  1.95959596+1.95959596j\n",
      "   2.        +2.j        ]\n",
      " [-2.        -2.j         -1.95959596-1.95959596j -1.91919192-1.91919192j\n",
      "  ...  1.91919192+1.91919192j  1.95959596+1.95959596j\n",
      "   2.        +2.j        ]]\n"
     ]
    }
   ],
   "source": [
    "print(c_array)"
   ]
  },
  {
   "cell_type": "code",
   "execution_count": null,
   "metadata": {},
   "outputs": [],
   "source": []
  }
 ],
 "metadata": {
  "kernelspec": {
   "display_name": "Python 3",
   "language": "python",
   "name": "python3"
  },
  "language_info": {
   "codemirror_mode": {
    "name": "ipython",
    "version": 3
   },
   "file_extension": ".py",
   "mimetype": "text/x-python",
   "name": "python",
   "nbconvert_exporter": "python",
   "pygments_lexer": "ipython3",
   "version": "3.6.5"
  }
 },
 "nbformat": 4,
 "nbformat_minor": 2
}
