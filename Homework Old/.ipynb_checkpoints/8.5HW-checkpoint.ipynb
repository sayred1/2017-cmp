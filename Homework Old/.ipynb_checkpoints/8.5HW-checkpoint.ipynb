{
 "cells": [
  {
   "cell_type": "markdown",
   "metadata": {},
   "source": [
    "## 8.5 Homework\n",
    "Write your own program to do the followings\n",
    "- generate a data with random noise\n",
    "- choose different polynomial function to fit the data\n",
    "- discuss which polynomial function yields the best fit and give your reasoning."
   ]
  },
  {
   "cell_type": "code",
   "execution_count": null,
   "metadata": {},
   "outputs": [],
   "source": [
    "import matplotlib.pyplot as plt\n",
    "import numpy as np\n",
    "\n",
    "Min = -4.0\n",
    "Max = 4.0\n",
    "N = 100\n",
    "order = []\n",
    "\n",
    "for i in range(100):\n",
    "    order.append(i)\n",
    "\n",
    "#function\n",
    "f = lambda x: x**2\n",
    "\n",
    "#noisy data\n",
    "x = np.linspace(Min,Max,N)\n",
    "y = f(x) + np.random.rand(N) - 0.5\n",
    "\n",
    "for o in order:\n",
    "    fit = np.polyfit(x, y, o, full=True)\n",
    "    y_p = np.polyval(fit[0], x)\n",
    "    if len(fit[1]) != 0:\n",
    "        print(fit[1])\n",
    "\n",
    "        plt.figure(figsize = (20,10))\n",
    "        plt.title('fitted coefficients' + str(fit[0]) + '\\n residual: ' + str(fit[1]))\n",
    "        plt.plot(x,y,'o',color = 'k', label = 'noisy data')\n",
    "        plt.plot(x,f(x), label='ideal function')\n",
    "        plt.plot(x,y_p, label='polyfit'+str(order))\n",
    "\n",
    "\n",
    "        plt.legend(fontsize=12)\n",
    "        plt.show()"
   ]
  },
  {
   "cell_type": "code",
   "execution_count": null,
   "metadata": {},
   "outputs": [],
   "source": []
  },
  {
   "cell_type": "code",
   "execution_count": null,
   "metadata": {},
   "outputs": [],
   "source": []
  }
 ],
 "metadata": {
  "kernelspec": {
   "display_name": "Python 3",
   "language": "python",
   "name": "python3"
  },
  "language_info": {
   "codemirror_mode": {
    "name": "ipython",
    "version": 3
   },
   "file_extension": ".py",
   "mimetype": "text/x-python",
   "name": "python",
   "nbconvert_exporter": "python",
   "pygments_lexer": "ipython3",
   "version": "3.6.5"
  }
 },
 "nbformat": 4,
 "nbformat_minor": 2
}
