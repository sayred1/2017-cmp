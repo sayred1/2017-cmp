{
 "cells": [
  {
   "cell_type": "markdown",
   "metadata": {},
   "source": [
    "## 2.5 Homework\n",
    "### The Einstein Model of a Solid\n",
    "\n",
    "A solid crystal is composed of atoms. Einstein proposed that a model that each atom is pretty much a harmonic oscillator \n",
    "because it is attached by some springs to the adjacent atoms in the crystal lattice.\n",
    "![Image of Einstein solid](https://github.com/qzhu2017/2017-cmp/blob/master/img/einsteins-solid.jpg?raw=true)\n",
    "\n",
    "In each oscillator, the energy has quantized separation (0,1,2,.....)\n",
    "Suppose there are only 3 oscillators, the energy could be\n",
    "\n",
    "|Oscillator | 1| 2|\n",
    "|:-----:|:-----:|:-----:|\n",
    "|Energy|0|0|\n",
    "| |1|0|\n",
    "| |0|1|\n",
    "| |1|1|\n",
    "| |2|0|\n",
    "| |0|2|\n",
    "Namely,\n",
    "\n",
    "   When the total energy ($q$) is 0, $\\Omega$=1 \n",
    "\n",
    "   When the total energy ($q$) is 1, $\\Omega$=2 \n",
    "\n",
    "   When the total energy ($q$) is 2, $\\Omega$=3\n",
    "\n",
    "The generalized form is\n",
    " $$\\Omega(N, q) = \\binom{q+N-1}{q} = \\frac{(q+N-1)!}{q!(N-1)!}$$\n",
    " \n",
    " \n",
    "Try to prove this formula and write a code to compute $\\Omega$ for any ($N$, $q$)"
   ]
  },
  {
   "cell_type": "code",
   "execution_count": 14,
   "metadata": {},
   "outputs": [
    {
     "data": {
      "text/plain": [
       "5.913229078243071e+16"
      ]
     },
     "execution_count": 14,
     "metadata": {},
     "output_type": "execute_result"
    }
   ],
   "source": [
    "def factorial_function(N):\n",
    "    if N <= 1:\n",
    "        return 1\n",
    "    else:\n",
    "        calculation = 1\n",
    "        for i in range(2, N+1):\n",
    "            calculation *= i\n",
    "        return(calculation)\n",
    "\n",
    "def multiplicity(N,q):\n",
    "    omega = factorial_function(q+N-1)/(factorial_function(q)*factorial_function(N-1))\n",
    "    return(omega)\n",
    "    \n",
    "q = int(input(\"type a value for the total energy, q: \"))\n",
    "N = int(input(\"type a value for the number of oscillators, N: \"))\n",
    "multiplicity(N,q)"
   ]
  }
 ],
 "metadata": {
  "kernelspec": {
   "display_name": "Python 3",
   "language": "python",
   "name": "python3"
  },
  "language_info": {
   "codemirror_mode": {
    "name": "ipython",
    "version": 3
   },
   "file_extension": ".py",
   "mimetype": "text/x-python",
   "name": "python",
   "nbconvert_exporter": "python",
   "pygments_lexer": "ipython3",
   "version": "3.6.5"
  }
 },
 "nbformat": 4,
 "nbformat_minor": 2
}
