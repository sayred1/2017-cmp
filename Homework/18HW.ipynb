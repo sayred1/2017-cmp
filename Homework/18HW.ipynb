{
 "cells": [
  {
   "cell_type": "markdown",
   "metadata": {},
   "source": [
    "## 18.3 Homework\n",
    "\n",
    "Try different minimization methods in scipy on larger systems ($N$ up to 20), and show \n",
    "- 1 the average number of attempts to find the ground state\n",
    "- 2 the time costs\n",
    "\n",
    "\n",
    "### Optional\n",
    "try to improve the code to make it run faster, analyze the most time consuming part and give your solution"
   ]
  },
  {
   "cell_type": "code",
   "execution_count": 25,
   "metadata": {},
   "outputs": [],
   "source": [
    "from scipy.spatial.distance import cdist\n",
    "from scipy.optimize import minimize\n",
    "import numpy as np\n",
    "import pandas as pd\n",
    "import requests\n",
    "import time\n",
    "\n",
    "def LJ(r):\n",
    "    r6 = np.power(r,6)\n",
    "    r12 = np.power(r,12)\n",
    "    LJ = 4*(1/r12 - 1/r6)\n",
    "    return LJ\n",
    "\n",
    "def init_pos(N, L=5): \n",
    "    return L*np.random.random_sample((N*3,))\n",
    "\n",
    "def total_energy(positions): \n",
    "    E = 0\n",
    "    N_atom = int(len(positions)/3) \n",
    "    for i in range(N_atom-1):\n",
    "        for j in range(i+1, N_atom):\n",
    "            pos1 = positions[i*3:(i+1)*3]\n",
    "            pos2 = positions[j*3:(j+1)*3]\n",
    "            dist = np.linalg.norm(pos1-pos2)\n",
    "            E += LJ(dist)\n",
    "    return E\n",
    "\n",
    "def get_true_LJ(N):\n",
    "    url = \"http://doye.chem.ox.ac.uk/jon/structures/LJ/points/\"+str(N)\n",
    "    names = ['x', 'y', 'z']\n",
    "    dataset = pd.read_csv(url, names=names, delim_whitespace=True)\n",
    "    pos = dataset.values\n",
    "    pos = np.reshape(pos, [N*3,1])\n",
    "    return total_energy(pos)"
   ]
  },
  {
   "cell_type": "code",
   "execution_count": null,
   "metadata": {},
   "outputs": [
    {
     "name": "stdout",
     "output_type": "stream",
     "text": [
      "accepted LJ energy at N = 5 is -9.1\n",
      "calculated LJ energy at N = 5\n",
      "-9.1 using CG took 1 tries and took 0.75 seconds\n",
      "5 attempts made, best estimate on ground state is -6.1\n",
      "-6.1 using Nelder-Mead took 5 tries and took 2.73 seconds\n",
      "5 attempts made, best estimate on ground state is -8.1\n",
      "-8.1 using TNC took 1 tries and took 0.59 seconds\n",
      "average number of attempts to find the ground state: 2.33\n",
      "\n",
      "\n",
      "accepted LJ energy at N = 10 is -28.4\n",
      "calculated LJ energy at N = 10\n",
      "5 attempts made, best estimate on ground state is -27.6\n",
      "-27.6 using CG took 3 tries and took 19.47 seconds\n",
      "5 attempts made, best estimate on ground state is -17.2\n",
      "-17.2 using Nelder-Mead took 3 tries and took 14.75 seconds\n",
      "5 attempts made, best estimate on ground state is -14.0\n",
      "-14.0 using TNC took 3 tries and took 21.64 seconds\n",
      "average number of attempts to find the ground state: 3.0\n",
      "\n",
      "\n",
      "accepted LJ energy at N = 15 is -52.3\n",
      "calculated LJ energy at N = 15\n",
      "5 attempts made, best estimate on ground state is -49.5\n",
      "-49.5 using CG took 4 tries and took 178.79 seconds\n",
      "5 attempts made, best estimate on ground state is -30.5\n",
      "-30.5 using Nelder-Mead took 5 tries and took 78.55 seconds\n",
      "5 attempts made, best estimate on ground state is -19.3\n",
      "-19.3 using TNC took 4 tries and took 114.15 seconds\n",
      "average number of attempts to find the ground state: 4.33\n",
      "\n",
      "\n",
      "accepted LJ energy at N = 20 is -77.2\n",
      "calculated LJ energy at N = 20\n"
     ]
    }
   ],
   "source": [
    "N = 20 #number of atoms\n",
    "attempts = 5 #max number of LJ Potential calculations\n",
    "methods = ['CG','Nelder-Mead','TNC']\n",
    "\n",
    "for i in range(1,N+1):\n",
    "    if i%5 == 0:\n",
    "        trueLJ = round(get_true_LJ(i),1) #obtains the ground state potential from accepted documentation\n",
    "        print('accepted LJ energy at N =',i,'is', trueLJ)\n",
    "        print('calculated LJ energy at N =',i)\n",
    "        n = 0 #this is the number of tries to find the best calculation on the LJ potential\n",
    "        for j in methods:\n",
    "            calculations = [] #list of all calculated LJ potentials\n",
    "            times = [] #list of the times LJs were calculate\n",
    "            \n",
    "            time_start = time.time() #time start\n",
    "            \n",
    "            #this calculation is the most expensive\n",
    "            res = minimize(total_energy, init_pos(i), method=j, tol=1e-4) \n",
    "            calcLJ = round(res.fun,1)\n",
    "            \n",
    "            times.append(time.time()) #calculated time is time[i]-time_start \n",
    "            calculations.append(calcLJ)\n",
    "            \n",
    "            count = 1 #this is where the count starts for number of attempts\n",
    "            while calcLJ != trueLJ:\n",
    "                #more expensive calculations\n",
    "                res = minimize(total_energy, init_pos(i), method=j, tol=1e-4)\n",
    "                calcLJ = round(res.fun,1) \n",
    "                \n",
    "                calculations.append(calcLJ) \n",
    "                times.append(time.time())\n",
    "                count += 1\n",
    "                \n",
    "                if count == attempts:\n",
    "                    print('5 attempts made, best estimate on ground state is',min(calculations))\n",
    "                    break\n",
    "                    \n",
    "            n += calculations.index(min(calculations))+1 #this is the number of tries to find the best calculation on the LJ potential\n",
    "            \n",
    "            print(min(calculations),'using',j,'took',calculations.index(min(calculations))+1,'tries and took',round(times[calculations.index(min(calculations))]-time_start,2),'seconds')\n",
    "        print('average number of attempts to find the ground state:',round(n/len(methods),2))\n",
    "        print('\\n')"
   ]
  },
  {
   "cell_type": "markdown",
   "metadata": {},
   "source": [
    "### i will attempt the optional part if i'm able to finish the rest of the assignments before the semester starts.  N= 20 WOULD NOT FINISH FOR ME"
   ]
  },
  {
   "cell_type": "code",
   "execution_count": null,
   "metadata": {},
   "outputs": [],
   "source": []
  }
 ],
 "metadata": {
  "kernelspec": {
   "display_name": "Python 3",
   "language": "python",
   "name": "python3"
  },
  "language_info": {
   "codemirror_mode": {
    "name": "ipython",
    "version": 3
   },
   "file_extension": ".py",
   "mimetype": "text/x-python",
   "name": "python",
   "nbconvert_exporter": "python",
   "pygments_lexer": "ipython3",
   "version": "3.6.5"
  }
 },
 "nbformat": 4,
 "nbformat_minor": 2
}
