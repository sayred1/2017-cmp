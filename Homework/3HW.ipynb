{
 "cells": [
  {
   "cell_type": "markdown",
   "metadata": {},
   "source": [
    "## 3.5 Homework\n",
    "### Two Interacting Einstein Solids\n",
    "\n",
    "We already learned that Einstein proposed that a model that each atom is pretty much a harmonic oscillator \n",
    "because it is attached by some springs to the adjacent atoms in the crystal lattice. $N$ is the number of\n",
    "oscillators, while $q$ is the quantized energy for each oscillator.\n",
    "\n",
    "The generalized form to calculate the multiplicity for a give ($N,q$) is \n",
    " $$\\Omega(N, q) = \\binom{q+N-1}{q} = \\frac{(q+N-1)!}{q!(N-1)!}$$\n",
    "    \n",
    "Now let us consider two interacting Einstein solids.\n",
    "\n",
    "\n",
    "Assuming that $A$ and $B$ are weakly coupled (just like ideal gas), the individual energies\n",
    "of the solids, $q_A$ and $q_B$ will change slowly. Under this assumption, the total number of energies $q_\\text{total}$ will\n",
    "be simply the sum of  $q_A$ and $q_B$.\n",
    "\n",
    "\n",
    "\n",
    "To make life easier, let's fix $q_\\text{total}$.\n",
    "\n",
    "What's the $\\Omega$ for any arbitary $q_A$? If we just count $A$,\n",
    " $$\\Omega(A) = \\binom{q_A+N_A-1}{q_A} = \\frac{(q_A+N_A-1)!}{q_A!(N_A-1)!}$$\n",
    " \n",
    "Similarly\n",
    " $$\\Omega(B) = \\binom{q_B+N_B-1}{q_B} = \\frac{(q_B+N_B-1)!}{q_B!(N_B-1)!}$$\n",
    " \n",
    "And the total number follows\n",
    "\n",
    " $$\\Omega(\\text{total}) = \\Omega(A)  \\Omega(B) $$\n",
    "\n",
    "We have the following table when $q_A + q_B = 2, N_A = N_B = 3$.\n",
    "\n",
    "|q(A)| O(A) | q(B) | O(B) | O(total)|\n",
    "|:--:|:-----------:|:----:|:-----------:|:-------:|\n",
    "|0   |      1      |   2  |     3       |    6    |\n",
    "|1   |      3      |   1  |     3       |    9    |\n",
    "|2   |      3      |   0  |     1       |    6    |\n",
    "\n",
    "\n",
    "\n",
    "### Coding:\n",
    "\n",
    "Write a code to calculate as a function of $q_A$, when \n",
    "\n",
    "1, $N_A$=300, $N_B$=200, and $q$=100\n",
    "\n",
    "2, $N_A$=3000, $N_B$=2000, and $q$=100\n",
    "    \n",
    "plot them and try to find some tendency when $N$ increases."
   ]
  },
  {
   "cell_type": "code",
   "execution_count": 43,
   "metadata": {},
   "outputs": [
    {
     "data": {
      "image/png": "[encoded data removed]",
      "text/plain": [
       "<Figure size 432x288 with 1 Axes>"
      ]
     },
     "metadata": {
      "needs_background": "light"
     },
     "output_type": "display_data"
    },
    {
     "data": {
      "image/png": "[encoded data removed]",
      "text/plain": [
       "<Figure size 432x288 with 1 Axes>"
      ]
     },
     "metadata": {
      "needs_background": "light"
     },
     "output_type": "display_data"
    }
   ],
   "source": [
    "\"\"\"\n",
    "This code calculates the total multiplicity for two configurations of einstein solids \n",
    "N = 500 & N = 5000. Since the multiplicty is a function of individual number of energies for \n",
    "each solid (qa & qb), the individual multiplicities for each microstate are calculated then\n",
    "the total multiplicty is taken as the product between each configurations i.e omega(qa = 40),\n",
    "omega(qb = 60) gives omega(qa,qb) = omega(qa = 40)*omega(qb = 60) where qtot = qa + qb = 100.\n",
    "\"\"\"\n",
    "\n",
    "\n",
    "import matplotlib.pyplot as plt\n",
    "import numpy as np\n",
    "import math\n",
    "%matplotlib inline\n",
    "\n",
    "#function calculating the multiplicity, omega\n",
    "def multiplicity(q,N):\n",
    "    omega = math.factorial(q+N-1)/(math.factorial(q)*math.factorial(N-1))\n",
    "    return(omega)\n",
    "\n",
    "#function to plot\n",
    "def plots(qa, omega, Na, Nb):\n",
    "    plt.plot(qa, omega)\n",
    "    plt.title('Na = ' + str(Na)+ ', ' + 'Nb = ' + str(Nb))\n",
    "    plt.xlabel(r'$q_{a}$')\n",
    "    plt.ylabel('$\\Omega(N,q)$')\n",
    "    plt.show()\n",
    "        \n",
    "# total energy number of 100\n",
    "qtot = np.arange(0,101)\n",
    "\n",
    "#1)        \n",
    "Na = 300\n",
    "Nb = 200\n",
    "tot_multi = []\n",
    "for i in range(qtot.shape[0]):\n",
    "    atom1 = multiplicity(qtot[i-1],Na)\n",
    "    atom2 = multiplicity(qtot[-i],Nb)\n",
    "    tot_multi.append(atom1*atom2)\n",
    "\n",
    "plots(qtot,tot_multi,Na,Nb)\n",
    "\n",
    "\n",
    "#2)\n",
    "Na = 3000\n",
    "Nb = 2000\n",
    "tot_multi = []\n",
    "for i in range(qtot.shape[0]):\n",
    "    atom1 = multiplicity(qtot[i-1],Na)\n",
    "    atom2 = multiplicity(qtot[-i],Nb)\n",
    "    tot_multi.append(atom1*atom2)\n",
    "\n",
    "plots(qtot,tot_multi,Na,Nb)"
   ]
  },
  {
   "cell_type": "markdown",
   "metadata": {},
   "source": [
    "## As N increases by a factor of 1, the total multiplicity increases by a factor of almost 100 in the same range of energy qa ~ 45 - 75. Due to these plots, it can be seen that the particles are most likely to be found in the previously mentioned microstates. This is attributed to the energy states at which particles are evenly distrubuted within their container (gas), or withing an einstein solid, at which vibrations between oscillators energetically favorable.  "
   ]
  },
  {
   "cell_type": "code",
   "execution_count": null,
   "metadata": {},
   "outputs": [],
   "source": []
  }
 ],
 "metadata": {
  "kernelspec": {
   "display_name": "Python 3",
   "language": "python",
   "name": "python3"
  },
  "language_info": {
   "codemirror_mode": {
    "name": "ipython",
    "version": 3
   },
   "file_extension": ".py",
   "mimetype": "text/x-python",
   "name": "python",
   "nbconvert_exporter": "python",
   "pygments_lexer": "ipython3",
   "version": "3.7.1"
  }
 },
 "nbformat": 4,
 "nbformat_minor": 2
}
