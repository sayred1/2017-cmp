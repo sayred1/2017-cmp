{
 "cells": [
  {
   "cell_type": "markdown",
   "metadata": {},
   "source": [
    "## 12.4 Homework\n",
    "\n",
    "- 1. Calculate a value for the integral\n",
    "\n",
    "$$ I = \\int_0 ^1 \\frac{x^{-1/2}}{e^x + 1} dx $$\n",
    "\n",
    "using the importance sampling method with $w(x) = x^{-1/2}$, with 1,000,000 random points.\n",
    "\n",
    "To find p(x):\n",
    "\n",
    "$$p(x) = \\frac{w(x)}{\\int_0^1 w(x)dx} = \\frac{x^{-1/2}}{2x^{1/2}|_0^1} = \\frac{1}{2\\sqrt x}$$\n",
    "\n",
    "To find F(x):\n",
    "\n",
    "$$F(x) = \\int_0^x p(x') dx = \\int_0^x \\frac{dx'}{2\\sqrt x'} = \\sqrt x$$\n",
    "\n",
    "To find $F^{-1}(x)$:\n",
    "\n",
    "$$F(F^{-1}(u)) = u$$ \n",
    "\n",
    "$$=>\\sqrt(F^{-1}(u)) = u$$ square both sides,\n",
    "\n",
    "$$=> F^{-1}(u) = u^2 => F^{-1}(x) = x^2$$"
   ]
  },
  {
   "cell_type": "code",
   "execution_count": 1,
   "metadata": {},
   "outputs": [
    {
     "name": "stderr",
     "output_type": "stream",
     "text": [
      "/Users/b_eebs/anaconda3/lib/python3.7/site-packages/ipykernel_launcher.py:11: RuntimeWarning: divide by zero encountered in true_divide\n",
      "  # This is added back by InteractiveShellApp.init_path()\n",
      "/Users/b_eebs/anaconda3/lib/python3.7/site-packages/ipykernel_launcher.py:12: RuntimeWarning: divide by zero encountered in true_divide\n",
      "  if sys.path[0] == '':\n"
     ]
    },
    {
     "data": {
      "image/png": "[encoded data removed]",
      "text/plain": [
       "<Figure size 432x288 with 1 Axes>"
      ]
     },
     "metadata": {
      "needs_background": "light"
     },
     "output_type": "display_data"
    }
   ],
   "source": [
    "import matplotlib.pyplot as plt\n",
    "import numpy as np\n",
    "from scipy import integrate\n",
    "from random import random\n",
    "%matplotlib inline  \n",
    "\n",
    "a = 0\n",
    "b = 1.0\n",
    "width = 100\n",
    "\n",
    "f = lambda x: 1/np.sqrt(x)/(np.exp(x)+1)\n",
    "w = lambda x: 1/np.sqrt(x)\n",
    "F_inv = lambda x: x**2 \n",
    "\n",
    "x = np.linspace(a,b,width)\n",
    "\n",
    "plt.plot(x,f(x))\n",
    "plt.plot(x,w(x))\n",
    "plt.show()"
   ]
  },
  {
   "cell_type": "code",
   "execution_count": 2,
   "metadata": {},
   "outputs": [
    {
     "name": "stdout",
     "output_type": "stream",
     "text": [
      "IMC: 0.8388452775217291\n",
      "Scipy:  0.8389329600133838\n"
     ]
    }
   ],
   "source": [
    "from scipy.integrate import quad\n",
    "\n",
    "def IMC(N):\n",
    "    const = quad(w, 0, 1)[0]\n",
    "    I = 0\n",
    "    for i in range(N):\n",
    "        x = random()\n",
    "        y = F_inv(x)\n",
    "        I += f(y)/w(y)\n",
    "    return I/N*const\n",
    "\n",
    "print('IMC:', IMC(1000000))\n",
    "print('Scipy: ', quad(f, 0, 1)[0])"
   ]
  },
  {
   "cell_type": "markdown",
   "metadata": {},
   "source": [
    "- 2. Calculate a value for the integral\n",
    "\n",
    "$$ I = \\int_0 ^1 \\frac{x^{-1}}{e^x + 1} dx $$\n",
    "\n",
    "using the importance sampling method with $w(x) = 1/x$, with 1,000,000 random points.\n",
    "\n",
    "To find p(x), we need $\\int_0^1 w(x)dx$, which is an improper integral in this limit:\n",
    "\n",
    "$$\\int_0^1 w(x)dx = \\lim_{C \\to 0}\\int_C^1 \\frac{dx}{x}$$\n",
    "\n",
    "This integral was approximated with scipy library, i = 34.64413691056851, with C = 9e-16 \n",
    "\n",
    "Thus, \n",
    "\n",
    "$$p(x) = \\frac{w(x)}{\\int_0^1 w(x)dx} = \\frac{x^{-1}}{i} = \\frac{x^{-1}}{34.64413691056851}$$\n",
    "\n",
    "To find F(x):\n",
    "\n",
    "$$F(x) = \\int_0^x p(x') dx = \\frac{1}{i}\\int_0^x \\frac{dx}{x}$$. \n",
    "\n",
    "Again, this is an improper integral, so I'll try to numerically choose values that force the integral approx. equal to the scipy solution. Thus, limits of integration for from [0,x] to [C,x]:\n",
    "\n",
    "$$F(x) = \\int_C^x p(x') dx = \\frac{1}{i}\\int_C^x \\frac{dx'}{x'} = \\frac{1}{i} ln[\\frac{x}{C}]$$. \n",
    "\n",
    "To find $F^{-1}(x)$:\n",
    "\n",
    "$$F(F^{-1}(u)) = u$$ \n",
    "\n",
    "$$=>\\frac{1}{i} ln[\\frac{F^{-1}(u)}{C}] = u$$ exponentiate both sides,\n",
    "\n",
    "$$=> F^{-1}(u) = Ce^{iu} => F^{-1}(x) = Ce^{ix} $$"
   ]
  },
  {
   "cell_type": "code",
   "execution_count": 3,
   "metadata": {},
   "outputs": [
    {
     "name": "stderr",
     "output_type": "stream",
     "text": [
      "/Users/b_eebs/anaconda3/lib/python3.7/site-packages/ipykernel_launcher.py:4: RuntimeWarning: divide by zero encountered in true_divide\n",
      "  after removing the cwd from sys.path.\n",
      "/Users/b_eebs/anaconda3/lib/python3.7/site-packages/ipykernel_launcher.py:5: RuntimeWarning: divide by zero encountered in true_divide\n",
      "  \"\"\"\n"
     ]
    },
    {
     "data": {
      "image/png": "[encoded data removed]",
      "text/plain": [
       "<Figure size 432x288 with 1 Axes>"
      ]
     },
     "metadata": {
      "needs_background": "light"
     },
     "output_type": "display_data"
    }
   ],
   "source": [
    "C = 9e-16 # lower integration limit\n",
    "i = integrate.quad(w, C, 1)[0] # integral of w(x)\n",
    "\n",
    "f = lambda x: 1/x/(np.exp(x)+1)\n",
    "w = lambda x: 1/x\n",
    "F_inv = lambda x: C*np.exp(x*i) \n",
    "\n",
    "plt.plot(x,f(x))\n",
    "plt.plot(x,w(x))\n",
    "plt.show()"
   ]
  },
  {
   "cell_type": "code",
   "execution_count": 4,
   "metadata": {},
   "outputs": [
    {
     "name": "stdout",
     "output_type": "stream",
     "text": [
      "IMC: 17.322068455284253\n",
      "scipy: 17.078624157494264\n"
     ]
    }
   ],
   "source": [
    "def IMC(N):\n",
    "    const = integrate.quad(w, 9e-16, 1)[0]\n",
    "    I = 0\n",
    "    for i in range(N):\n",
    "        x = random()\n",
    "        y = F_inv(x)\n",
    "        I += f(y)/w(y)\n",
    "    return I/N*const\n",
    "\n",
    "print('IMC:', IMC(1000000))\n",
    "print('scipy:', quad(f, C, 1)[0])"
   ]
  },
  {
   "cell_type": "markdown",
   "metadata": {},
   "source": [
    "# I'm sure that playing around with the value of C would bring these two values closer."
   ]
  },
  {
   "cell_type": "code",
   "execution_count": null,
   "metadata": {},
   "outputs": [],
   "source": []
  }
 ],
 "metadata": {
  "kernelspec": {
   "display_name": "Python 3",
   "language": "python",
   "name": "python3"
  },
  "language_info": {
   "codemirror_mode": {
    "name": "ipython",
    "version": 3
   },
   "file_extension": ".py",
   "mimetype": "text/x-python",
   "name": "python",
   "nbconvert_exporter": "python",
   "pygments_lexer": "ipython3",
   "version": "3.7.3"
  }
 },
 "nbformat": 4,
 "nbformat_minor": 2
}
