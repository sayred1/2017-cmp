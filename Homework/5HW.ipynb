{
 "cells": [
  {
   "cell_type": "markdown",
   "metadata": {},
   "source": [
    "## 5.5 Homework: \n",
    "Calculate the following integral based on three different rules\n",
    "\n",
    "$$\\int_0^3 (x^2-x+1)dx$$\n",
    "\n",
    "$$\\int_0^3 (x^4-x+1)dx$$\n",
    "\n",
    "$$\\int_0^3 \\text{exp}(-x^2)dx$$\n",
    "\n",
    "For the 1st one, how many sampling points do you need for Simpson rule?"
   ]
  },
  {
   "cell_type": "code",
   "execution_count": 13,
   "metadata": {},
   "outputs": [],
   "source": [
    "import numpy as np\n",
    "import matplotlib.pyplot as plt\n",
    "\n",
    "def plot_func(start, end, f, parts, resultsx, resultsy):\n",
    "    x = np.linspace(start,end,100)\n",
    "    y = f(x)        \n",
    "    plt.plot(x, y, 'r')\n",
    "    plt.xlim([start,end])\n",
    "\n",
    "    y2 = np.array([0,0])\n",
    "    for i in range(parts):\n",
    "        x0 = resultsx[i:i+2]\n",
    "        y1 = resultsy[i:i+2]\n",
    "        plt.fill_between(x0, y1, y2, where=y1>=y2, facecolor='blue')\n",
    "        linex, liney = [resultsx[i], resultsx[i]], [0, resultsy[i]]\n",
    "        plt.plot(linex, liney, color='black', linewidth=2.0)        \n",
    "\n",
    "    plt.show()\n",
    "    \n",
    "def Rectangle(start, end, parts, function):\n",
    "    \"\"\"\n",
    "    Rectrangle sum rule\n",
    "    \n",
    "    \"\"\"\n",
    "    \n",
    "    #define the X,Y points\n",
    "    deltax = (end - start) / parts\n",
    "    resultsx = np.linspace(start, end, parts)\n",
    "    resultsy = function(resultsx)\n",
    "    \n",
    "    # To calculate the area\n",
    "    area = np.empty([parts], float)\n",
    "    for i in range(parts):\n",
    "            area[i] = resultsy[i] * deltax\n",
    "    print(\"The Sum of the area using the Rectangle Rule is: \", sum(area))\n",
    "    \n",
    "    \n",
    "def Trapezoid(start, end, parts, function):\n",
    "    \"\"\"\n",
    "    Trapezoid sum rule\n",
    "    \n",
    "    \"\"\"\n",
    "\n",
    "    #define the X, Y points \n",
    "    deltax = (end - start) / parts\n",
    "    resultsx = np.linspace(start, end, parts+1)\n",
    "    resultsy = function(resultsx)\n",
    "\n",
    "    # To calculate the area\n",
    "    area = np.empty([parts], float)\n",
    "    for i in range(parts):\n",
    "            area[i] = (resultsy[i]+resultsy[i+1]) * deltax/2\n",
    "\n",
    "    # By default, we also output the plot.\n",
    "    print(\"The Sum of the area using the Trapezoid Rule is: \", sum(area))\n",
    "    \n",
    "\n",
    "    \n",
    "\n",
    "def Simpson(start, end, parts, function, plot =1):\n",
    "    \"\"\"\n",
    "    Rectrangle sum rule\n",
    "\n",
    "    \"\"\" \n",
    "\n",
    "    #define the X,Y points\n",
    "    deltax = (end - start) / parts\n",
    "    resultsx = np.linspace(start, end, parts+1)\n",
    "    resultsy = function(resultsx)\n",
    "\n",
    "    # To calculate the area\n",
    "    area = np.empty([parts+1], float)\n",
    "    for i in range(parts+1):\n",
    "        if i == 0 or i == parts:\n",
    "            coef = 1/3\n",
    "        elif i%2 == 1:\n",
    "            coef = 4/3\n",
    "        else: \n",
    "            coef = 2/3\n",
    "        print(i,coef ==4/3)\n",
    "        area[i] = coef*resultsy[i]*deltax\n",
    "    print(\"The Sum of the area using Simpson's Rule is: \", sum(area))\n",
    "    \n",
    "    if plot == 1:\n",
    "        plot_func(start, end, f, parts, resultsx, resultsy)\n",
    "\n",
    "\n"
   ]
  },
  {
   "cell_type": "markdown",
   "metadata": {},
   "source": [
    "$$\\int_0^3 (x^2-x+1)dx$$"
   ]
  },
  {
   "cell_type": "code",
   "execution_count": 14,
   "metadata": {},
   "outputs": [
    {
     "name": "stdout",
     "output_type": "stream",
     "text": [
      "The Sum of the area using the Rectangle Rule is:  7.999999999999998\n",
      "The Sum of the area using the Trapezoid Rule is:  7.544999999999999\n",
      "0 False\n",
      "1 True\n",
      "2 False\n",
      "3 True\n",
      "4 False\n",
      "5 True\n",
      "6 False\n",
      "7 True\n",
      "8 False\n",
      "9 True\n",
      "10 False\n",
      "The Sum of the area using Simpson's Rule is:  7.499999999999998\n"
     ]
    },
    {
     "data": {
      "image/png": "[encoded data removed]",
      "text/plain": [
       "<Figure size 432x288 with 1 Axes>"
      ]
     },
     "metadata": {
      "needs_background": "light"
     },
     "output_type": "display_data"
    }
   ],
   "source": [
    "f = lambda x: x**2 - x + 1\n",
    "Rectangle(0,3,10,f)\n",
    "Trapezoid(0,3,10,f) \n",
    "Simpson(0,3,10,f)"
   ]
  },
  {
   "cell_type": "markdown",
   "metadata": {},
   "source": [
    "$$\\int_0^3 (x^4-x+1)dx$$"
   ]
  },
  {
   "cell_type": "code",
   "execution_count": 5,
   "metadata": {},
   "outputs": [
    {
     "name": "stdout",
     "output_type": "stream",
     "text": [
      "The Sum of the area using the Rectangle Rule is:  47.83718173470238\n",
      "The Sum of the area using the Trapezoid Rule is:  47.108099919\n",
      "The Sum of the area using Simpson's Rule is:  47.10000032399998\n"
     ]
    },
    {
     "data": {
      "image/png": "[encoded data removed]",
      "text/plain": [
       "<Figure size 432x288 with 1 Axes>"
      ]
     },
     "metadata": {
      "needs_background": "light"
     },
     "output_type": "display_data"
    }
   ],
   "source": [
    "f = lambda x: x**4 - x + 1\n",
    "Rectangle(0,3,100,f)\n",
    "Trapezoid(0,3,100,f) \n",
    "Simpson(0,3,100,f)"
   ]
  },
  {
   "cell_type": "markdown",
   "metadata": {},
   "source": [
    "$$\\int_0^3 \\text{exp}(-x^2)dx$$"
   ]
  },
  {
   "cell_type": "code",
   "execution_count": 6,
   "metadata": {},
   "outputs": [
    {
     "name": "stdout",
     "output_type": "stream",
     "text": [
      "The Sum of the area using the Rectangle Rule is:  0.892347069854365\n",
      "The Sum of the area using the Trapezoid Rule is:  0.8862072927500886\n",
      "The Sum of the area using Simpson's Rule is:  0.8862073481597857\n"
     ]
    },
    {
     "data": {
      "image/png": "[encoded data removed]",
      "text/plain": [
       "<Figure size 432x288 with 1 Axes>"
      ]
     },
     "metadata": {
      "needs_background": "light"
     },
     "output_type": "display_data"
    }
   ],
   "source": [
    "f = lambda x: np.exp(-x**2)\n",
    "Rectangle(0,3,100,f)\n",
    "Trapezoid(0,3,100,f) \n",
    "Simpson(0,3,100,f)"
   ]
  },
  {
   "cell_type": "markdown",
   "metadata": {},
   "source": [
    "For integral 1, you need at least 3 sampling points per slice since the function is a quadratic. "
   ]
  },
  {
   "cell_type": "code",
   "execution_count": null,
   "metadata": {},
   "outputs": [],
   "source": []
  }
 ],
 "metadata": {
  "kernelspec": {
   "display_name": "Python 3",
   "language": "python",
   "name": "python3"
  },
  "language_info": {
   "codemirror_mode": {
    "name": "ipython",
    "version": 3
   },
   "file_extension": ".py",
   "mimetype": "text/x-python",
   "name": "python",
   "nbconvert_exporter": "python",
   "pygments_lexer": "ipython3",
   "version": "3.7.1"
  }
 },
 "nbformat": 4,
 "nbformat_minor": 2
}
