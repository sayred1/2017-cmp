{
 "cells": [
  {
   "cell_type": "markdown",
   "metadata": {},
   "source": [
    "## 4.5 Homework: \n",
    "\n",
    "### 4.5.1 Mandelbrot set\n",
    "\n",
    "The Mandelbrot set, named after its discoverer, the French mathematician Mandelbrot, \n",
    "is a fractal, an infinitely ramified mathematical object that contains structure \n",
    "within structure within structure, as deep as we care to look.\n",
    "\n",
    "The definition of the Mandelbrot set is in terms of complex numbers as follows.\n",
    "Consider the equation\n",
    "\n",
    "$$z' = z^2 + c$$\n",
    "\n",
    "where $z$ is a complex number and $c$ is a complex constant. For any given value of\n",
    "$c$ this equation turns an input number z into an output number $z'$. \n",
    "\n",
    "The definition of the Mandelbrot set involves the repeated iteration of this equation: \n",
    "we take an initial starting value of $z$ and feed it into the equation to get a new value $z'$. \n",
    "\n",
    "Then we take that value and feed it in again to get another value, and so forth. \n",
    "\n",
    "\n",
    "The Mandelbrot set is the set of points in the complex plane that satisfies the following definition:\n",
    "\n",
    "_For a given complex value of c, start with z = 0 and iterate repeatedly. If the\n",
    "magnitude |z| of the resulting value is ever greater than 2, then the point in the\n",
    "complex plane at position c is not in the Mandelbrot set, otherwise it is in the set._\n",
    "\n",
    "In order to use this definition one would, in principle, have to iterate infinitely many\n",
    "times to prove that a point is in the Mandelbrot set, since a point is in the set only if\n",
    "the iteration never passes |z| = 2 ever. In practice, however, one usually just performs\n",
    "some large number of iterations, say 100, and if |z| hasn’t exceeded 2 by that point then\n",
    "we call that good enough.\n",
    "\n",
    "#### Task\n",
    "\n",
    "Write a program to make an image of the Mandelbrot set by performing the iteration\n",
    "for all values of $c = x + iy$ on an $N \\times N$ grid spanning the region where −2 ≤ x ≤ 2\n",
    "and −2 ≤ y ≤ 2. Make a density plot in which grid points inside the Mandelbrot set\n",
    "are colored black and those outside are colored white. \n",
    "\n",
    "Hint: You will probably find it useful to start off with quite a coarse grid, i.e., with a\n",
    "small value (perhaps $N$ = 100) —so that your program runs quickly while you are\n",
    "testing it. Once you are sure it is working correctly, increase the value of N to produce\n",
    "a final high-quality image of the shape of the set.\n",
    "\n",
    "### 4.5.2 (optional)\n",
    "Choose a cool plot made by python"
   ]
  },
  {
   "cell_type": "code",
   "execution_count": 130,
   "metadata": {},
   "outputs": [],
   "source": [
    "import numpy as np\n",
    "from numpy import empty\n",
    "from numpy import linspace\n",
    "import matplotlib.pyplot as plt\n",
    "%matplotlib inline  \n",
    "\n",
    "def Mandelbrot(c):\n",
    "    z_prime = lambda z: z*z + c\n",
    "    x = z_prime(0 + 0j)\n",
    "    #print(x)\n",
    "    if abs(x) > 2:\n",
    "        return 1.0\n",
    "    else:\n",
    "        for i in range(100):\n",
    "            x = z_prime(x)\n",
    "            if abs(x) > 2:\n",
    "                return 1.0\n",
    "            else:\n",
    "                i += 1\n",
    "    return 0"
   ]
  },
  {
   "cell_type": "code",
   "execution_count": 131,
   "metadata": {},
   "outputs": [
    {
     "data": {
      "image/png": "[encoded data removed]",
      "text/plain": [
       "<Figure size 432x288 with 1 Axes>"
      ]
     },
     "metadata": {},
     "output_type": "display_data"
    }
   ],
   "source": [
    "N=1000\n",
    "x = linspace(-2,2,N)\n",
    "y = linspace(-2,2,N)\n",
    "ci = np.empty([N,N],complex) #set of complex values \n",
    "ms = np.empty([N,N],float) #mandelbrodt set\n",
    "mbsx = []\n",
    "\n",
    "for i in range(N):\n",
    "    for k in range(N):\n",
    "        ci[i,k] = x[k] + 1j*y[i] \n",
    "        ms[i,k] = Mandelbrot(ci[i,k])\n",
    "\n",
    "plt.xlabel('Real')\n",
    "plt.ylabel('Imaginary')\n",
    "plt.title(\"Mandelbrot Set\")\n",
    "plt.gray()\n",
    "plt.imshow(ms, extent=[-2, 2, -2, 2])\n",
    "plt.show()"
   ]
  },
  {
   "cell_type": "code",
   "execution_count": null,
   "metadata": {},
   "outputs": [],
   "source": []
  }
 ],
 "metadata": {
  "kernelspec": {
   "display_name": "Python 3",
   "language": "python",
   "name": "python3"
  },
  "language_info": {
   "codemirror_mode": {
    "name": "ipython",
    "version": 3
   },
   "file_extension": ".py",
   "mimetype": "text/x-python",
   "name": "python",
   "nbconvert_exporter": "python",
   "pygments_lexer": "ipython3",
   "version": "3.6.5"
  }
 },
 "nbformat": 4,
 "nbformat_minor": 2
}
