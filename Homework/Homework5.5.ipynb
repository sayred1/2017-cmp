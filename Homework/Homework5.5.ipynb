{
 "cells": [
  {
   "cell_type": "markdown",
   "metadata": {},
   "source": [
    "## 5.5 Homework: \n",
    "Calculate the following integral based on three different rules\n",
    "\n",
    "$$\\int_0^3 (x^2-x+1)dx$$\n",
    "\n",
    "$$\\int_0^3 (x^4-x+1)dx$$\n",
    "\n",
    "$$\\int_0^3 \\text{exp}(-x^2)dx$$\n",
    "\n",
    "For the 1st one, how many sampling points do you need for Simpson rule?"
   ]
  },
  {
   "cell_type": "code",
   "execution_count": 98,
   "metadata": {},
   "outputs": [],
   "source": [
    "import numpy as np\n",
    "import matplotlib.pyplot as plt\n",
    "\n",
    "def Rectangle(start, end, parts, plot=1):\n",
    "    \"\"\"\n",
    "    Rectrangle sum rule\n",
    "    \n",
    "    \"\"\"\n",
    "    #define the function\n",
    "    f = lambda x: np.exp(-x*x)\n",
    "    \n",
    "    #define the X,Y points\n",
    "    deltax = (end - start) / parts\n",
    "    resultsx = np.linspace(start, end, parts)\n",
    "    resultsy = f(resultsx)\n",
    "    \n",
    "    # To calculate the area\n",
    "    area = np.empty([parts], float)\n",
    "    for i in range(parts):\n",
    "            area[i] = resultsy[i] * deltax\n",
    "    print(\"The Sum of the area using the Rectangle Rule is: \", sum(area))\n",
    "    \n",
    "def Trapezoid(start, end, parts, plot=1):\n",
    "    \"\"\"\n",
    "    Trapezoid sum rule\n",
    "    \n",
    "    \"\"\"\n",
    "    #define the function\n",
    "    f = lambda x: np.exp(-x*x)\n",
    "    \n",
    "    #define the X, Y points \n",
    "    deltax = (end - start) / parts\n",
    "    resultsx = np.linspace(start, end, parts+1)\n",
    "    resultsy = f(resultsx)\n",
    "\n",
    "    # To calculate the area\n",
    "    area = np.empty([parts], float)\n",
    "    for i in range(parts):\n",
    "            area[i] = (resultsy[i]+resultsy[i+1]) * deltax/2\n",
    "\n",
    "    # By default, we also output the plot.\n",
    "    print(\"The Sum of the area using the Trapezoid Rule is: \", sum(area))\n",
    "    \n",
    "\n",
    "def Simpson(start, end, parts,plot=1):\n",
    "    \"\"\"\n",
    "    Rectrangle sum rule\n",
    "\n",
    "    \"\"\"\n",
    "    #define the function\n",
    "    f = lambda x: np.exp(-x*x)  \n",
    "\n",
    "    #define the X,Y points\n",
    "    deltax = (end - start) / parts\n",
    "    resultsx = np.linspace(start, end, parts+1)\n",
    "    #resultsx = np.append(resultsx, end+deltax)\n",
    "    resultsy = f(resultsx)\n",
    "\n",
    "    # To calculate the area\n",
    "    area = np.empty([parts+1], float)\n",
    "    for i in range(parts+1):\n",
    "        if i == 0 or i == parts:\n",
    "            coef = 1/3\n",
    "        elif i%2 == 1:\n",
    "            coef = 4/3\n",
    "        else: \n",
    "            coef = 2/3\n",
    "        area[i] = coef*resultsy[i]*deltax\n",
    "    print(\"The Sum of the area using Simpson's Rule is: \", sum(area))\n",
    "\n"
   ]
  },
  {
   "cell_type": "markdown",
   "metadata": {},
   "source": [
    "$$\\int_0^3 (x^2-x+1)dx$$"
   ]
  },
  {
   "cell_type": "code",
   "execution_count": 95,
   "metadata": {},
   "outputs": [
    {
     "name": "stdout",
     "output_type": "stream",
     "text": [
      "The Sum of the area using the Rectangle Rule is:  7.545454545454545\n",
      "The Sum of the area using the Trapezoid Rule is:  7.500450000000001\n",
      "The Sum of the area using Simpson's Rule is:  7.499999999999998\n"
     ]
    }
   ],
   "source": [
    "Rectangle(0,3,100)\n",
    "Trapezoid(0,3,100) \n",
    "Simpson(0,3,10)"
   ]
  },
  {
   "cell_type": "markdown",
   "metadata": {},
   "source": [
    "$$\\int_0^3 (x^4-x+1)dx$$"
   ]
  },
  {
   "cell_type": "code",
   "execution_count": 102,
   "metadata": {},
   "outputs": [
    {
     "name": "stdout",
     "output_type": "stream",
     "text": [
      "The Sum of the area using the Rectangle Rule is:  0.892347069854365\n",
      "The Sum of the area using the Trapezoid Rule is:  0.8862072927500886\n",
      "The Sum of the area using Simpson's Rule is:  0.8862065522460074\n"
     ]
    }
   ],
   "source": [
    "Rectangle(0,3,100)\n",
    "Trapezoid(0,3,100) \n",
    "Simpson(0,3,10)"
   ]
  },
  {
   "cell_type": "markdown",
   "metadata": {},
   "source": [
    "$$\\int_0^3 \\text{exp}(-x^2)dx$$"
   ]
  },
  {
   "cell_type": "code",
   "execution_count": 101,
   "metadata": {},
   "outputs": [
    {
     "name": "stdout",
     "output_type": "stream",
     "text": [
      "The Sum of the area using the Rectangle Rule is:  0.892347069854365\n",
      "The Sum of the area using the Trapezoid Rule is:  0.8862072927500886\n",
      "The Sum of the area using Simpson's Rule is:  0.8862065522460074\n"
     ]
    }
   ],
   "source": [
    "Rectangle(0,3,100)\n",
    "Trapezoid(0,3,100) \n",
    "Simpson(0,3,10)"
   ]
  },
  {
   "cell_type": "markdown",
   "metadata": {},
   "source": [
    "For integral 1, you need at least 3 sampling points per slice."
   ]
  }
 ],
 "metadata": {
  "kernelspec": {
   "display_name": "Python 3",
   "language": "python",
   "name": "python3"
  },
  "language_info": {
   "codemirror_mode": {
    "name": "ipython",
    "version": 3
   },
   "file_extension": ".py",
   "mimetype": "text/x-python",
   "name": "python",
   "nbconvert_exporter": "python",
   "pygments_lexer": "ipython3",
   "version": "3.6.5"
  }
 },
 "nbformat": 4,
 "nbformat_minor": 2
}
