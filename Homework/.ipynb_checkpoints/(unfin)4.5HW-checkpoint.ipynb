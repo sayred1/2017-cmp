{
 "cells": [
  {
   "cell_type": "markdown",
   "metadata": {},
   "source": [
    "## 4.5 Homework: \n",
    "\n",
    "### 4.5.1 Mandelbrot set\n",
    "\n",
    "The Mandelbrot set, named after its discoverer, the French mathematician Mandelbrot, \n",
    "is a fractal, an infinitely ramified mathematical object that contains structure \n",
    "within structure within structure, as deep as we care to look.\n",
    "\n",
    "The definition of the Mandelbrot set is in terms of complex numbers as follows.\n",
    "Consider the equation\n",
    "\n",
    "$$z' = z^2 + c$$\n",
    "\n",
    "where $z$ is a complex number and $c$ is a complex constant. For any given value of\n",
    "$c$ this equation turns an input number z into an output number $z'$. \n",
    "\n",
    "The definition of the Mandelbrot set involves the repeated iteration of this equation: \n",
    "we take an initial starting value of $z$ and feed it into the equation to get a new value $z'$. \n",
    "\n",
    "Then we take that value and feed it in again to get another value, and so forth. \n",
    "\n",
    "\n",
    "The Mandelbrot set is the set of points in the complex plane that satisfies the following definition:\n",
    "\n",
    "_For a given complex value of c, start with z = 0 and iterate repeatedly. If the\n",
    "magnitude |z| of the resulting value is ever greater than 2, then the point in the\n",
    "complex plane at position c is not in the Mandelbrot set, otherwise it is in the set._\n",
    "\n",
    "In order to use this definition one would, in principle, have to iterate infinitely many\n",
    "times to prove that a point is in the Mandelbrot set, since a point is in the set only if\n",
    "the iteration never passes |z| = 2 ever. In practice, however, one usually just performs\n",
    "some large number of iterations, say 100, and if |z| hasn’t exceeded 2 by that point then\n",
    "we call that good enough.\n",
    "\n",
    "#### Task\n",
    "\n",
    "Write a program to make an image of the Mandelbrot set by performing the iteration\n",
    "for all values of $c = x + iy$ on an $N \\times N$ grid spanning the region where −2 ≤ x ≤ 2\n",
    "and −2 ≤ y ≤ 2. Make a density plot in which grid points inside the Mandelbrot set\n",
    "are colored black and those outside are colored white. \n",
    "\n",
    "Hint: You will probably find it useful to start off with quite a coarse grid, i.e., with a\n",
    "small value (perhaps $N$ = 100) —so that your program runs quickly while you are\n",
    "testing it. Once you are sure it is working correctly, increase the value of N to produce\n",
    "a final high-quality image of the shape of the set.\n",
    "\n",
    "### 4.5.2 (optional)\n",
    "Choose a cool plot made by python"
   ]
  },
  {
   "cell_type": "code",
   "execution_count": 4,
   "metadata": {},
   "outputs": [
    {
     "name": "stdout",
     "output_type": "stream",
     "text": [
      "[-2.        -2.j         -1.95959596-1.95959596j -1.91919192-1.91919192j\n",
      " -1.87878788-1.87878788j -1.83838384-1.83838384j -1.7979798 -1.7979798j\n",
      " -1.75757576-1.75757576j -1.71717172-1.71717172j -1.67676768-1.67676768j\n",
      " -1.63636364-1.63636364j -1.5959596 -1.5959596j  -1.55555556-1.55555556j\n",
      " -1.51515152-1.51515152j -1.47474747-1.47474747j -1.43434343-1.43434343j\n",
      " -1.39393939-1.39393939j -1.35353535-1.35353535j -1.31313131-1.31313131j\n",
      " -1.27272727-1.27272727j -1.23232323-1.23232323j -1.19191919-1.19191919j\n",
      " -1.15151515-1.15151515j -1.11111111-1.11111111j -1.07070707-1.07070707j\n",
      " -1.03030303-1.03030303j -0.98989899-0.98989899j -0.94949495-0.94949495j\n",
      " -0.90909091-0.90909091j -0.86868687-0.86868687j -0.82828283-0.82828283j\n",
      " -0.78787879-0.78787879j -0.74747475-0.74747475j -0.70707071-0.70707071j\n",
      " -0.66666667-0.66666667j -0.62626263-0.62626263j -0.58585859-0.58585859j\n",
      " -0.54545455-0.54545455j -0.50505051-0.50505051j -0.46464646-0.46464646j\n",
      " -0.42424242-0.42424242j -0.38383838-0.38383838j -0.34343434-0.34343434j\n",
      " -0.3030303 -0.3030303j  -0.26262626-0.26262626j -0.22222222-0.22222222j\n",
      " -0.18181818-0.18181818j -0.14141414-0.14141414j -0.1010101 -0.1010101j\n",
      " -0.06060606-0.06060606j -0.02020202-0.02020202j  0.02020202+0.02020202j\n",
      "  0.06060606+0.06060606j  0.1010101 +0.1010101j   0.14141414+0.14141414j\n",
      "  0.18181818+0.18181818j  0.22222222+0.22222222j  0.26262626+0.26262626j\n",
      "  0.3030303 +0.3030303j   0.34343434+0.34343434j  0.38383838+0.38383838j\n",
      "  0.42424242+0.42424242j  0.46464646+0.46464646j  0.50505051+0.50505051j\n",
      "  0.54545455+0.54545455j  0.58585859+0.58585859j  0.62626263+0.62626263j\n",
      "  0.66666667+0.66666667j  0.70707071+0.70707071j  0.74747475+0.74747475j\n",
      "  0.78787879+0.78787879j  0.82828283+0.82828283j  0.86868687+0.86868687j\n",
      "  0.90909091+0.90909091j  0.94949495+0.94949495j  0.98989899+0.98989899j\n",
      "  1.03030303+1.03030303j  1.07070707+1.07070707j  1.11111111+1.11111111j\n",
      "  1.15151515+1.15151515j  1.19191919+1.19191919j  1.23232323+1.23232323j\n",
      "  1.27272727+1.27272727j  1.31313131+1.31313131j  1.35353535+1.35353535j\n",
      "  1.39393939+1.39393939j  1.43434343+1.43434343j  1.47474747+1.47474747j\n",
      "  1.51515152+1.51515152j  1.55555556+1.55555556j  1.5959596 +1.5959596j\n",
      "  1.63636364+1.63636364j  1.67676768+1.67676768j  1.71717172+1.71717172j\n",
      "  1.75757576+1.75757576j  1.7979798 +1.7979798j   1.83838384+1.83838384j\n",
      "  1.87878788+1.87878788j  1.91919192+1.91919192j  1.95959596+1.95959596j\n",
      "  2.        +2.j        ]\n"
     ]
    }
   ],
   "source": [
    "import numpy as np\n",
    "from numpy import empty\n",
    "from numpy import linspace\n",
    "import matplotlib.pyplot as plt\n",
    "%matplotlib inline  \n",
    "\n",
    "N=100\n",
    "j = 1j\n",
    "x = linspace(-2,2,N)\n",
    "y = linspace(-2,2,N)\n",
    "c = x + y*j\n",
    "print(c)\n",
    "c_array = np.array([c]*N)\n",
    "z = c_array\n",
    "for i in range(N):\n",
    "    zprime = z**2 + c_array[i]\n",
    "\n",
    "\n",
    "\n",
    "\n"
   ]
  },
  {
   "cell_type": "code",
   "execution_count": 81,
   "metadata": {},
   "outputs": [
    {
     "name": "stdout",
     "output_type": "stream",
     "text": [
      "[[-2.        -2.j         -2.        -1.95959596j -2.        -1.91919192j\n",
      "  ... -2.        +1.91919192j -2.        +1.95959596j\n",
      "  -2.        +2.j        ]\n",
      " [-1.95959596-2.j         -1.95959596-1.95959596j -1.95959596-1.91919192j\n",
      "  ... -1.95959596+1.91919192j -1.95959596+1.95959596j\n",
      "  -1.95959596+2.j        ]\n",
      " [-1.91919192-2.j         -1.91919192-1.95959596j -1.91919192-1.91919192j\n",
      "  ... -1.91919192+1.91919192j -1.91919192+1.95959596j\n",
      "  -1.91919192+2.j        ]\n",
      " ...\n",
      " [ 1.91919192-2.j          1.91919192-1.95959596j  1.91919192-1.91919192j\n",
      "  ...  1.91919192+1.91919192j  1.91919192+1.95959596j\n",
      "   1.91919192+2.j        ]\n",
      " [ 1.95959596-2.j          1.95959596-1.95959596j  1.95959596-1.91919192j\n",
      "  ...  1.95959596+1.91919192j  1.95959596+1.95959596j\n",
      "   1.95959596+2.j        ]\n",
      " [ 2.        -2.j          2.        -1.95959596j  2.        -1.91919192j\n",
      "  ...  2.        +1.91919192j  2.        +1.95959596j\n",
      "   2.        +2.j        ]]\n"
     ]
    }
   ],
   "source": [
    "from numpy import newaxis\n",
    "x = np.linspace(-2, 2, 100)\n",
    "y = np.linspace(-2, 2, 100)\n",
    "\n",
    "c = x[:,newaxis] + 1j*y[newaxis,:]\n",
    "print(c)"
   ]
  },
  {
   "cell_type": "code",
   "execution_count": 82,
   "metadata": {},
   "outputs": [
    {
     "data": {
      "text/plain": [
       "False"
      ]
     },
     "execution_count": 82,
     "metadata": {},
     "output_type": "execute_result"
    }
   ],
   "source": [
    "(c==c_array).all()"
   ]
  },
  {
   "cell_type": "code",
   "execution_count": 83,
   "metadata": {},
   "outputs": [
    {
     "name": "stdout",
     "output_type": "stream",
     "text": [
      "[[-2.        -2.j         -1.95959596-1.95959596j -1.91919192-1.91919192j\n",
      "  ...  1.91919192+1.91919192j  1.95959596+1.95959596j\n",
      "   2.        +2.j        ]\n",
      " [-2.        -2.j         -1.95959596-1.95959596j -1.91919192-1.91919192j\n",
      "  ...  1.91919192+1.91919192j  1.95959596+1.95959596j\n",
      "   2.        +2.j        ]\n",
      " [-2.        -2.j         -1.95959596-1.95959596j -1.91919192-1.91919192j\n",
      "  ...  1.91919192+1.91919192j  1.95959596+1.95959596j\n",
      "   2.        +2.j        ]\n",
      " ...\n",
      " [-2.        -2.j         -1.95959596-1.95959596j -1.91919192-1.91919192j\n",
      "  ...  1.91919192+1.91919192j  1.95959596+1.95959596j\n",
      "   2.        +2.j        ]\n",
      " [-2.        -2.j         -1.95959596-1.95959596j -1.91919192-1.91919192j\n",
      "  ...  1.91919192+1.91919192j  1.95959596+1.95959596j\n",
      "   2.        +2.j        ]\n",
      " [-2.        -2.j         -1.95959596-1.95959596j -1.91919192-1.91919192j\n",
      "  ...  1.91919192+1.91919192j  1.95959596+1.95959596j\n",
      "   2.        +2.j        ]]\n"
     ]
    }
   ],
   "source": [
    "print(c_array)"
   ]
  },
  {
   "cell_type": "code",
   "execution_count": null,
   "metadata": {},
   "outputs": [],
   "source": []
  }
 ],
 "metadata": {
  "kernelspec": {
   "display_name": "Python 3",
   "language": "python",
   "name": "python3"
  },
  "language_info": {
   "codemirror_mode": {
    "name": "ipython",
    "version": 3
   },
   "file_extension": ".py",
   "mimetype": "text/x-python",
   "name": "python",
   "nbconvert_exporter": "python",
   "pygments_lexer": "ipython3",
   "version": "3.6.5"
  }
 },
 "nbformat": 4,
 "nbformat_minor": 2
}
