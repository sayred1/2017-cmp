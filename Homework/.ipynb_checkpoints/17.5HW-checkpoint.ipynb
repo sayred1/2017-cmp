{
 "cells": [
  {
   "cell_type": "markdown",
   "metadata": {},
   "source": [
    "## 17.5 Homework\n",
    "\n",
    "Write a program to find the ground state of LJ potential for N=3 (assuming $\\epsilon$ = $\\sigma$ = 1)\n",
    "\n",
    "[Refenece](http://doye.chem.ox.ac.uk/jon/structures/LJ/tables.150.html)"
   ]
  },
  {
   "cell_type": "code",
   "execution_count": 25,
   "metadata": {},
   "outputs": [],
   "source": [
    "import numpy as np\n",
    "\n",
    "def LJ(r): #this is the lennard jones pottential assuming delta and epsilon are 1\n",
    "    r6 = r**6\n",
    "    r12 = r6*r6\n",
    "    return 4*(1/r12 - 1/r6)\n",
    "\n",
    "def total_energy(positions): \n",
    "    E = []\n",
    "    N_atom = int(len(positions)/3) #since there exists three spatial coordinates for each atom, div by three and you get the number of atoms\n",
    "    #all positions are in positions as positions = [x0, y0, z0, x1, y1, z1, .....  , xn, yn, zn]\n",
    "    #this loop calculates tall possible distances between atoms then plus those distances into the LJ potential calculations\n",
    "    for i in range(N_atom-1):\n",
    "        for j in range(i+1, N_atom):\n",
    "            pos1 = positions[i*3:(i+1)*3]\n",
    "            pos2 = positions[j*3:(j+1)*3]\n",
    "            dist = np.linalg.norm(pos1-pos2)\n",
    "            E.append(LJ(dist))\n",
    "    return E\n",
    "            \n",
    "def init_pos(N, L=5): # initial atomic positions \n",
    "    return L*np.random.random_sample((N*3,))"
   ]
  },
  {
   "cell_type": "code",
   "execution_count": 32,
   "metadata": {},
   "outputs": [
    {
     "name": "stdout",
     "output_type": "stream",
     "text": [
      "Ground state corresponds to the smallest calculated LJ Potential Energy = -0.5788375000678685 for four interacting atoms starting at specified spatial coordinates: [4.50660813 1.13462924 0.15939421 3.06876422 2.60838574 1.15668795\n",
      " 4.60960625 1.90416395 2.53001917 1.18708369 1.76066434 3.37087999]\n"
     ]
    }
   ],
   "source": [
    "#print(total_energy(init_pos(4)))\n",
    "print('Ground state corresponds to the smallest calculated LJ Potential Energy =', min(total_energy(init_pos(4))), 'for four interacting atoms starting at specified spatial coordinates:', init_pos(4))"
   ]
  },
  {
   "cell_type": "code",
   "execution_count": null,
   "metadata": {},
   "outputs": [],
   "source": []
  }
 ],
 "metadata": {
  "kernelspec": {
   "display_name": "Python 3",
   "language": "python",
   "name": "python3"
  },
  "language_info": {
   "codemirror_mode": {
    "name": "ipython",
    "version": 3
   },
   "file_extension": ".py",
   "mimetype": "text/x-python",
   "name": "python",
   "nbconvert_exporter": "python",
   "pygments_lexer": "ipython3",
   "version": "3.6.5"
  }
 },
 "nbformat": 4,
 "nbformat_minor": 2
}
