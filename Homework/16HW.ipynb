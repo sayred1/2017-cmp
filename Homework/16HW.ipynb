{
 "cells": [
  {
   "cell_type": "markdown",
   "metadata": {},
   "source": [
    "## 16.6 Homework\n",
    "\n",
    "Write a program to find the minium of \n",
    "    $$ f(x,y) = x^2/2 + y^2/3 - xy/4 $$\n",
    "    \n",
    "- 1, from your own code (except Monte Carlo)"
   ]
  },
  {
   "cell_type": "code",
   "execution_count": 59,
   "metadata": {},
   "outputs": [],
   "source": [
    "import numpy as np\n",
    "import matplotlib.pyplot as plt\n",
    "\n",
    "def f2(x):\n",
    "    return x[0]**2/2 + x[1]**2/3 - x[0]*x[1]/4\n",
    "\n",
    "def init(x_min, x_max, y_min, y_max):\n",
    "    x0 = x_min+np.random.random()*(x_max-x_min)\n",
    "    y0 = y_min+np.random.random()*(y_max-y_min)\n",
    "    return [x0, y0]\n",
    "\n",
    "def minimize_var(f,x0, N=1000):\n",
    "    x_now = x0\n",
    "    x_prev = None\n",
    "    converged = False\n",
    "    x_hist = []\n",
    "    x_hist.append(x_now)\n",
    "    for i in range(N):\n",
    "        df_now = derivative2(f2, x_now) \n",
    "        if x_prev is None:\n",
    "            dx = 0.01\n",
    "        else:\n",
    "            df_prev = derivative2(f2, x_prev)\n",
    "            dd = df_now - df_prev\n",
    "            dx = np.dot(x_now - x_prev, dd) / (np.linalg.norm(dd))**2\n",
    "        x_next = x_now - df_now*dx\n",
    "        if f(x_next)>f(x_now):\n",
    "            converged = True\n",
    "            break\n",
    "        else:\n",
    "            x_prev = x_now\n",
    "            x_now = x_next\n",
    "            x_hist.append(x_now)\n",
    "    return converged, np.array(x_hist), f(x_now)\n",
    "\n",
    "def derivative2(f, xy, d=0.001):\n",
    "    x, y = xy[0], xy[1]\n",
    "    fx = (f([x+d/2,y])-f([x-d/2,y]))/d\n",
    "    fy = (f([x,y+d/2])-f([x,y-d/2]))/d\n",
    "    return np.array([fx,fy])"
   ]
  },
  {
   "cell_type": "code",
   "execution_count": 60,
   "metadata": {},
   "outputs": [
    {
     "name": "stdout",
     "output_type": "stream",
     "text": [
      "f_min: 3.1343873982999306e-08 \n",
      " x_min , y_min =  0.00020733582674485346 , -0.00011091440961291579 \n",
      " number of iterations: 6\n"
     ]
    }
   ],
   "source": [
    "x_min, x_max = -4,4\n",
    "y_min, y_max = -4,4\n",
    "\n",
    "[x0, y0] = init(x_min, x_max, y_min, y_max)\n",
    "converged, x_hist, f_min = minimize_var(f2, [x0,y0])\n",
    "\n",
    "print('f_min:', f_min, '\\n','x_min , y_min = ',x_hist[-1][0],',',x_hist[-1][1],'\\n','number of iterations:', len(x_hist))"
   ]
  },
  {
   "cell_type": "markdown",
   "metadata": {},
   "source": [
    "- 2, from scipy"
   ]
  },
  {
   "cell_type": "code",
   "execution_count": 63,
   "metadata": {},
   "outputs": [
    {
     "name": "stdout",
     "output_type": "stream",
     "text": [
      "Optimization terminated successfully.\n",
      "         Current function value: 0.000000\n",
      "         Iterations: 3\n",
      "         Function evaluations: 65\n"
     ]
    }
   ],
   "source": [
    "from scipy.optimize import minimize\n",
    "\n",
    "res = minimize(f2, [x0,y0], method='powell', tol=1e-4, options={'disp': True})"
   ]
  },
  {
   "cell_type": "code",
   "execution_count": null,
   "metadata": {},
   "outputs": [],
   "source": []
  }
 ],
 "metadata": {
  "kernelspec": {
   "display_name": "Python 3",
   "language": "python",
   "name": "python3"
  },
  "language_info": {
   "codemirror_mode": {
    "name": "ipython",
    "version": 3
   },
   "file_extension": ".py",
   "mimetype": "text/x-python",
   "name": "python",
   "nbconvert_exporter": "python",
   "pygments_lexer": "ipython3",
   "version": "3.6.5"
  }
 },
 "nbformat": 4,
 "nbformat_minor": 2
}
