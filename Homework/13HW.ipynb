{
 "cells": [
  {
   "cell_type": "markdown",
   "metadata": {},
   "source": [
    "## 15.5 Homework (by 10 am Oct 19, 2017)\n",
    "\n",
    "- a) Write a program that generates and prints out two random numbers between 1 and 6, to simulate the rolling of two dice."
   ]
  },
  {
   "cell_type": "code",
   "execution_count": 1,
   "metadata": {},
   "outputs": [
    {
     "name": "stdout",
     "output_type": "stream",
     "text": [
      "you've rolled: 6 & 1\n"
     ]
    }
   ],
   "source": [
    "import numpy as np\n",
    "\n",
    "def roll(roll1,roll2):\n",
    "    if roll1 == roll2:\n",
    "        print(\"you've rolled doubles:\", roll1, '&', roll2)\n",
    "    else:\n",
    "        print(\"you've rolled:\", roll1, '&', roll2)\n",
    "\n",
    "roll(np.random.randint(1,7),np.random.randint(1,7))"
   ]
  },
  {
   "cell_type": "markdown",
   "metadata": {},
   "source": [
    "- b) Modify your program to simulate the rolling of two dice a million times (N0) and count the number of times you get double six (N1). Calculate the probability of finding double six in your simulations (N1/N0) "
   ]
  },
  {
   "cell_type": "code",
   "execution_count": 2,
   "metadata": {},
   "outputs": [
    {
     "name": "stdout",
     "output_type": "stream",
     "text": [
      "The probability of rolling double six is: 2.8%\n"
     ]
    }
   ],
   "source": [
    "def roll(roll1,roll2):\n",
    "    return(roll1 == roll2 == 6)\n",
    "\n",
    "count = 0 \n",
    "for i in range(int(1e6)):\n",
    "    if roll(np.random.randint(1,7),np.random.randint(1,7)) == True:\n",
    "        count +=1\n",
    "\n",
    "print('The probability of rolling double six is:', str(round(100*count/int(1e6),1))+'%')"
   ]
  },
  {
   "cell_type": "markdown",
   "metadata": {},
   "source": [
    "- c) Write a code to generate random integers within [-5, 5], find the magic series of {a, c, m} [Don't use the built-in function in numpy] "
   ]
  },
  {
   "cell_type": "code",
   "execution_count": 70,
   "metadata": {},
   "outputs": [
    {
     "data": {
      "text/plain": [
       "(array([ 833.,  834.,  833.,  834.,  834., 1666.,  833.,  833.,  834.,\n",
       "        1666.]),\n",
       " array([-5., -4., -3., -2., -1.,  0.,  1.,  2.,  3.,  4.,  5.]),\n",
       " <a list of 10 Patch objects>)"
      ]
     },
     "execution_count": 70,
     "metadata": {},
     "output_type": "execute_result"
    },
    {
     "data": {
      "image/png": "[encoded data removed]",
      "text/plain": [
       "<Figure size 720x504 with 2 Axes>"
      ]
     },
     "metadata": {
      "needs_background": "light"
     },
     "output_type": "display_data"
    }
   ],
   "source": [
    "import matplotlib.pyplot as plt\n",
    "\n",
    "def randm(N):\n",
    "    x = 1\n",
    "    y = 2\n",
    "    a = 7**7\n",
    "    c = 1\n",
    "    m = 6\n",
    "    results = []\n",
    "    \n",
    "    for i in range(N):\n",
    "        y = ((a*y+c)%int(2e31-1))%6\n",
    "        if y >= 3:\n",
    "            m = -m\n",
    "        else:\n",
    "            m = m\n",
    "        x = (a*x+c)%m\n",
    "        results.append(x)\n",
    "    return results\n",
    "            \n",
    "fig, axs = plt.subplots(1, 2, figsize=(10,7))\n",
    "\n",
    "axs[0].set_title(\"Random Numbers Between -5 and 5\")\n",
    "axs[0].plot(randm(10000),\"ko\")\n",
    "axs[1].hist(randm(10000))\n",
    "\n"
   ]
  },
  {
   "cell_type": "code",
   "execution_count": null,
   "metadata": {},
   "outputs": [],
   "source": []
  }
 ],
 "metadata": {
  "kernelspec": {
   "display_name": "Python 3",
   "language": "python",
   "name": "python3"
  },
  "language_info": {
   "codemirror_mode": {
    "name": "ipython",
    "version": 3
   },
   "file_extension": ".py",
   "mimetype": "text/x-python",
   "name": "python",
   "nbconvert_exporter": "python",
   "pygments_lexer": "ipython3",
   "version": "3.7.4"
  }
 },
 "nbformat": 4,
 "nbformat_minor": 4
}
